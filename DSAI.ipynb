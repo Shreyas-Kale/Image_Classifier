{
  "nbformat": 4,
  "nbformat_minor": 0,
  "metadata": {
    "colab": {
      "name": "DSAI.ipynb",
      "provenance": [],
      "collapsed_sections": [],
      "toc_visible": true
    },
    "kernelspec": {
      "name": "python3",
      "display_name": "Python 3"
    },
    "accelerator": "GPU"
  },
  "cells": [
    {
      "cell_type": "markdown",
      "metadata": {
        "id": "TE9RhllrkKmM",
        "colab_type": "text"
      },
      "source": [
        "# **SVHN classification with CNN**"
      ]
    },
    {
      "cell_type": "markdown",
      "metadata": {
        "id": "PsB6eE0bGLxn",
        "colab_type": "text"
      },
      "source": [
        "**Importing the dataset**"
      ]
    },
    {
      "cell_type": "code",
      "metadata": {
        "id": "N1PkJzia6oOH",
        "colab_type": "code",
        "colab": {}
      },
      "source": [
        "import torch\n",
        "import torchvision\n",
        "import torchvision.transforms as transforms\n",
        "import torchvision.datasets as datasets\n"
      ],
      "execution_count": 33,
      "outputs": []
    },
    {
      "cell_type": "code",
      "metadata": {
        "id": "9gR4wj-17U6n",
        "colab_type": "code",
        "colab": {}
      },
      "source": [
        "transform = transforms.Compose([\n",
        "                    \n",
        "                    transforms.ToTensor(),\n",
        "                    transforms.Normalize((0.5, 0.5, 0.5), (0.5, 0.5, 0.5))])\n",
        "\n",
        "#Transforms to convert Image --> Tensor"
      ],
      "execution_count": 34,
      "outputs": []
    },
    {
      "cell_type": "code",
      "metadata": {
        "id": "JP1pGh5T7ZWo",
        "colab_type": "code",
        "colab": {
          "base_uri": "https://localhost:8080/",
          "height": 51
        },
        "outputId": "0f87da79-32f6-4969-e9b9-af57d167da08"
      },
      "source": [
        "trainset  = torchvision.datasets.SVHN('./data', split='train',download=True,transform=transform)\n",
        "testset =  torchvision.datasets.SVHN('./data', split='test',download=True,transform=transform)\n"
      ],
      "execution_count": 35,
      "outputs": [
        {
          "output_type": "stream",
          "text": [
            "Using downloaded and verified file: ./data/train_32x32.mat\n",
            "Using downloaded and verified file: ./data/test_32x32.mat\n"
          ],
          "name": "stdout"
        }
      ]
    },
    {
      "cell_type": "code",
      "metadata": {
        "id": "JJG4Vy3C6n6p",
        "colab_type": "code",
        "colab": {}
      },
      "source": [
        "# Set up the dataloaders to be used in training and testing\n",
        "\n",
        "train_loader = torch.utils.data.DataLoader(dataset=testset,\n",
        "                                              batch_size=64,\n",
        "                                              shuffle=True,\n",
        "                                              )\n",
        "test_loader = torch.utils.data.DataLoader(dataset=trainset,\n",
        "                                              batch_size=64,\n",
        "                                              shuffle=True,\n",
        "                                              )\n"
      ],
      "execution_count": 36,
      "outputs": []
    },
    {
      "cell_type": "code",
      "metadata": {
        "id": "8SodJYzMQsUq",
        "colab_type": "code",
        "colab": {}
      },
      "source": [
        "#Importing libraries\n",
        "import numpy as np\n",
        "import pandas as pd\n",
        "import keras\n",
        "import seaborn as sns\n",
        "from matplotlib import pyplot as plt\n",
        "\n",
        "from sklearn.model_selection import train_test_split\n",
        "from sklearn.preprocessing import LabelBinarizer\n",
        "from sklearn.metrics import confusion_matrix\n",
        "from keras.preprocessing.image import ImageDataGenerator\n",
        "%matplotlib inline"
      ],
      "execution_count": 37,
      "outputs": []
    },
    {
      "cell_type": "code",
      "metadata": {
        "id": "rQTfyMjvkqR3",
        "colab_type": "code",
        "colab": {
          "base_uri": "https://localhost:8080/",
          "height": 51
        },
        "outputId": "cee5e23c-344b-48fd-a2d3-b6b84246f6d8"
      },
      "source": [
        "#Loading train and test data\n",
        "from scipy.io import loadmat\n",
        "train = loadmat('./data/train_32x32.mat')\n",
        "test = loadmat('./data/test_32x32.mat')\n",
        "\n",
        "x_train = train['X']\n",
        "y_train = train['y']\n",
        "x_test = test['X']\n",
        "y_test = test['y']\n",
        "print(\"Training shapes:\",x_train.shape,y_train.shape)\n",
        "print(\"Training shapes:\",x_test.shape,y_test.shape)"
      ],
      "execution_count": 38,
      "outputs": [
        {
          "output_type": "stream",
          "text": [
            "Training shapes: (32, 32, 3, 73257) (73257, 1)\n",
            "Training shapes: (32, 32, 3, 26032) (26032, 1)\n"
          ],
          "name": "stdout"
        }
      ]
    },
    {
      "cell_type": "code",
      "metadata": {
        "id": "Xin1ysoC3mkU",
        "colab_type": "code",
        "colab": {
          "base_uri": "https://localhost:8080/",
          "height": 51
        },
        "outputId": "23d72916-dc4e-4d58-e12e-f017d741eb15"
      },
      "source": [
        "# Fixing the axes of the images\n",
        "\n",
        "x_train = np.moveaxis(x_train, -1, 0)\n",
        "x_test = np.moveaxis(x_test, -1, 0)\n",
        "\n",
        "print(x_train.shape)\n",
        "print(x_test.shape)"
      ],
      "execution_count": 39,
      "outputs": [
        {
          "output_type": "stream",
          "text": [
            "(73257, 32, 32, 3)\n",
            "(26032, 32, 32, 3)\n"
          ],
          "name": "stdout"
        }
      ]
    },
    {
      "cell_type": "code",
      "metadata": {
        "id": "hLEGE9BY4Oiq",
        "colab_type": "code",
        "colab": {
          "base_uri": "https://localhost:8080/",
          "height": 264
        },
        "outputId": "39c68b29-9682-472a-b725-6b2a01297731"
      },
      "source": [
        "#Visualising the first 10 images with their labels\n",
        "def plot_images(images,labels,cols=4):\n",
        "    num = len(images)\n",
        "    rows = num//cols \n",
        "    if num % cols != 0:\n",
        "        rows += 1\n",
        "    for i in range(num):\n",
        "        plt.subplot(rows,cols,i+1)\n",
        "        plt.imshow(images[i])\n",
        "        plt.title(str(labels[i]))\n",
        "        plt.axis(\"off\")\n",
        "    plt.show()\n",
        "\n",
        "plot_images(x_train[:10],y_train[:10])"
      ],
      "execution_count": 40,
      "outputs": [
        {
          "output_type": "display_data",
          "data": {
            "image/png": "[encoded data removed]",
            "text/plain": [
              "<Figure size 432x288 with 10 Axes>"
            ]
          },
          "metadata": {
            "tags": [],
            "needs_background": "light"
          }
        }
      ]
    },
    {
      "cell_type": "code",
      "metadata": {
        "id": "yKzu88zK_fwg",
        "colab_type": "code",
        "colab": {}
      },
      "source": [
        "#Changing the dtype of data\n",
        "x_train=x_train.astype('float',copy=False)\n",
        "x_test=x_test.astype('float',copy=False)"
      ],
      "execution_count": 41,
      "outputs": []
    },
    {
      "cell_type": "code",
      "metadata": {
        "id": "wcT3gjtH5-lr",
        "colab_type": "code",
        "colab": {
          "base_uri": "https://localhost:8080/",
          "height": 34
        },
        "outputId": "762adcb4-140a-4d3f-a434-0d49473ee6e4"
      },
      "source": [
        "print('Min:', x_train.min(), 'Max:', x_train.max())"
      ],
      "execution_count": 42,
      "outputs": [
        {
          "output_type": "stream",
          "text": [
            "Min: 0.0 Max: 255.0\n"
          ],
          "name": "stdout"
        }
      ]
    },
    {
      "cell_type": "code",
      "metadata": {
        "id": "3eqKAE5U6Y4B",
        "colab_type": "code",
        "colab": {}
      },
      "source": [
        "# Normalizing by dividing by 255 as the data is in terms of pixels\n",
        "x_train /= 255.0\n",
        "x_test /= 255.0"
      ],
      "execution_count": 43,
      "outputs": []
    },
    {
      "cell_type": "code",
      "metadata": {
        "id": "aE-Z-_Z7yMJJ",
        "colab_type": "code",
        "colab": {
          "base_uri": "https://localhost:8080/",
          "height": 136
        },
        "outputId": "9ad35509-1a52-4a9f-e784-64da040bd263"
      },
      "source": [
        "#Changing the label 10 to 0\n",
        "for i in range(0,73257):\n",
        "  if y_train[i]==10:\n",
        "    y_train[i]=0\n",
        "\n",
        "for i in range(0,26032):\n",
        "  if y_test[i]==10:\n",
        "    y_test[i]=0\n",
        "\n",
        "y_train"
      ],
      "execution_count": 44,
      "outputs": [
        {
          "output_type": "execute_result",
          "data": {
            "text/plain": [
              "array([[1],\n",
              "       [9],\n",
              "       [2],\n",
              "       ...,\n",
              "       [1],\n",
              "       [6],\n",
              "       [9]], dtype=uint8)"
            ]
          },
          "metadata": {
            "tags": []
          },
          "execution_count": 44
        }
      ]
    },
    {
      "cell_type": "code",
      "metadata": {
        "id": "NQ8nnhNA03qk",
        "colab_type": "code",
        "colab": {}
      },
      "source": [
        "#One hot encoding of labels\n",
        "lb = LabelBinarizer()\n",
        "y_train = lb.fit_transform(y_train)\n",
        "y_test = lb.fit_transform(y_test)"
      ],
      "execution_count": 45,
      "outputs": []
    },
    {
      "cell_type": "code",
      "metadata": {
        "id": "2R-nRQAfHIAc",
        "colab_type": "code",
        "colab": {}
      },
      "source": [
        "# Data augmentation\n",
        "\n",
        "datagen = ImageDataGenerator(rotation_range=8,\n",
        "                             zoom_range=[0.95, 1.05],\n",
        "                             height_shift_range=0.10,\n",
        "                             shear_range=0.15)"
      ],
      "execution_count": 46,
      "outputs": []
    },
    {
      "cell_type": "markdown",
      "metadata": {
        "id": "liJVQlrjG8G_",
        "colab_type": "text"
      },
      "source": [
        "# **Test Model**"
      ]
    },
    {
      "cell_type": "code",
      "metadata": {
        "id": "i0cFY4Ka8kbp",
        "colab_type": "code",
        "colab": {}
      },
      "source": [
        "dropout_rate = 0.2\n",
        "K = keras.backend\n",
        "resnet_0= keras.models.Sequential([\n",
        "                                  keras.layers.Lambda(lambda x:x/255,input_shape=x_train.shape[1:]),\n",
        "                                  keras.layers.Conv2D(32,3,activation=\"relu\",use_bias=False),\n",
        "                                  keras.layers.BatchNormalization(),\n",
        "                                  keras.layers.MaxPool2D(pool_size=3, strides=2, padding=\"SAME\"),\n",
        "                                  keras.layers.Dropout(dropout_rate),\n",
        "                                  \n",
        "                                  keras.layers.MaxPool2D(pool_size=3, strides=2, padding=\"SAME\"),\n",
        "                                  keras.layers.Dropout(dropout_rate),\n",
        "                                  \n",
        "                                  keras.layers.MaxPool2D(pool_size=3, strides=2, padding=\"SAME\"),\n",
        "                                  keras.layers.Dropout(dropout_rate),\n",
        "                                  keras.layers.Flatten(),\n",
        "                                  keras.layers.Dense(128,activation=\"relu\"),\n",
        "                                  keras.layers.Dense(10,activation=\"softmax\")\n",
        "])"
      ],
      "execution_count": 47,
      "outputs": []
    },
    {
      "cell_type": "code",
      "metadata": {
        "id": "wf2y-WYg_94z",
        "colab_type": "code",
        "colab": {}
      },
      "source": [
        "#Optimizing and compiling\n",
        "lr_schedule = keras.callbacks.LearningRateScheduler(lambda epoch: 1e-4 * 10**(epoch / 10))\n",
        "optimizer = keras.optimizers.Adam(lr=1e-4, amsgrad=True)\n",
        "resnet_0.compile(optimizer=optimizer,loss='categorical_crossentropy',metrics=['accuracy'])"
      ],
      "execution_count": 48,
      "outputs": []
    },
    {
      "cell_type": "code",
      "metadata": {
        "id": "pbBnVTUtGZwf",
        "colab_type": "code",
        "colab": {
          "base_uri": "https://localhost:8080/",
          "height": 1000
        },
        "outputId": "d8257471-ea7f-41f1-a557-1679458c5472"
      },
      "source": [
        " #Fit model in order to determine best learning rate\n",
        "\n",
        "history = resnet_0.fit_generator(datagen.flow(x_train, y_train, batch_size=128),epochs=30, callbacks=[lr_schedule])"
      ],
      "execution_count": 49,
      "outputs": [
        {
          "output_type": "stream",
          "text": [
            "Epoch 1/30\n",
            "573/573 [==============================] - 32s 56ms/step - loss: 2.2461 - accuracy: 0.1877\n",
            "Epoch 2/30\n",
            "573/573 [==============================] - 32s 56ms/step - loss: 2.2106 - accuracy: 0.2008\n",
            "Epoch 3/30\n",
            "573/573 [==============================] - 32s 56ms/step - loss: 2.1038 - accuracy: 0.2532\n",
            "Epoch 4/30\n",
            "573/573 [==============================] - 33s 57ms/step - loss: 1.9554 - accuracy: 0.3240\n",
            "Epoch 5/30\n",
            "573/573 [==============================] - 33s 57ms/step - loss: 1.8342 - accuracy: 0.3749\n",
            "Epoch 6/30\n",
            "573/573 [==============================] - 32s 56ms/step - loss: 1.7496 - accuracy: 0.4060\n",
            "Epoch 7/30\n",
            "573/573 [==============================] - 33s 57ms/step - loss: 1.6894 - accuracy: 0.4276\n",
            "Epoch 8/30\n",
            "573/573 [==============================] - 32s 56ms/step - loss: 1.6429 - accuracy: 0.4455\n",
            "Epoch 9/30\n",
            "573/573 [==============================] - 32s 57ms/step - loss: 1.6004 - accuracy: 0.4594\n",
            "Epoch 10/30\n",
            "573/573 [==============================] - 32s 56ms/step - loss: 1.5542 - accuracy: 0.4785\n",
            "Epoch 11/30\n",
            "573/573 [==============================] - 32s 56ms/step - loss: 1.5076 - accuracy: 0.4919\n",
            "Epoch 12/30\n",
            "573/573 [==============================] - 32s 56ms/step - loss: 1.4653 - accuracy: 0.5075\n",
            "Epoch 13/30\n",
            "573/573 [==============================] - 32s 56ms/step - loss: 1.4297 - accuracy: 0.5203\n",
            "Epoch 14/30\n",
            "573/573 [==============================] - 33s 57ms/step - loss: 1.3956 - accuracy: 0.5336\n",
            "Epoch 15/30\n",
            "573/573 [==============================] - 32s 56ms/step - loss: 1.3594 - accuracy: 0.5443\n",
            "Epoch 16/30\n",
            "573/573 [==============================] - 32s 56ms/step - loss: 1.3310 - accuracy: 0.5532\n",
            "Epoch 17/30\n",
            "573/573 [==============================] - 33s 57ms/step - loss: 1.2978 - accuracy: 0.5647\n",
            "Epoch 18/30\n",
            "573/573 [==============================] - 32s 56ms/step - loss: 1.2794 - accuracy: 0.5714\n",
            "Epoch 19/30\n",
            "573/573 [==============================] - 32s 55ms/step - loss: 1.2681 - accuracy: 0.5774\n",
            "Epoch 20/30\n",
            "573/573 [==============================] - 32s 55ms/step - loss: 1.2705 - accuracy: 0.5762\n",
            "Epoch 21/30\n",
            "573/573 [==============================] - 31s 55ms/step - loss: 1.2753 - accuracy: 0.5749\n",
            "Epoch 22/30\n",
            "573/573 [==============================] - 31s 55ms/step - loss: 1.2984 - accuracy: 0.5688\n",
            "Epoch 23/30\n",
            "573/573 [==============================] - 31s 55ms/step - loss: 1.3115 - accuracy: 0.5649\n",
            "Epoch 24/30\n",
            "573/573 [==============================] - 31s 55ms/step - loss: 1.3461 - accuracy: 0.5542\n",
            "Epoch 25/30\n",
            "573/573 [==============================] - 31s 54ms/step - loss: 1.3735 - accuracy: 0.5449\n",
            "Epoch 26/30\n",
            "573/573 [==============================] - 31s 53ms/step - loss: 1.4670 - accuracy: 0.5119\n",
            "Epoch 27/30\n",
            "573/573 [==============================] - 30s 53ms/step - loss: 1.5500 - accuracy: 0.4859\n",
            "Epoch 28/30\n",
            "573/573 [==============================] - 30s 53ms/step - loss: 1.6174 - accuracy: 0.4673\n",
            "Epoch 29/30\n",
            "573/573 [==============================] - 30s 52ms/step - loss: 1.9407 - accuracy: 0.3445\n",
            "Epoch 30/30\n",
            "573/573 [==============================] - 30s 52ms/step - loss: 1.9416 - accuracy: 0.3446\n"
          ],
          "name": "stdout"
        }
      ]
    },
    {
      "cell_type": "code",
      "metadata": {
        "id": "yVDVkMN9Hlkt",
        "colab_type": "code",
        "colab": {
          "base_uri": "https://localhost:8080/",
          "height": 287
        },
        "outputId": "45d58f25-40f5-4f3e-e18d-3d8ff3597e1a"
      },
      "source": [
        "# Plot Learning Rate vs. Loss\n",
        "\n",
        "plt.semilogx(history.history['lr'], history.history['loss'])\n",
        "plt.axis([1e-4, 1e-1, 0, 4])\n",
        "plt.xlabel('Learning Rate')\n",
        "plt.ylabel('Training Loss')\n",
        "plt.show()"
      ],
      "execution_count": 50,
      "outputs": [
        {
          "output_type": "display_data",
          "data": {
            "image/png": "[encoded data removed]",
            "text/plain": [
              "<Figure size 432x288 with 1 Axes>"
            ]
          },
          "metadata": {
            "tags": [],
            "needs_background": "light"
          }
        }
      ]
    },
    {
      "cell_type": "markdown",
      "metadata": {
        "id": "IphuoXc9HN4-",
        "colab_type": "text"
      },
      "source": [
        "# **FINAL MODEL**"
      ]
    },
    {
      "cell_type": "code",
      "metadata": {
        "id": "N2BC_ryIICxa",
        "colab_type": "code",
        "colab": {}
      },
      "source": [
        "dropout_rate = 0.2\n",
        "resnet_1 = keras.models.Sequential([\n",
        "                                  keras.layers.Lambda(lambda x:x/255,input_shape=x_train.shape[1:]),\n",
        "                                  keras.layers.Conv2D(32,3,activation=\"relu\",use_bias=False),\n",
        "                                  keras.layers.BatchNormalization(),\n",
        "                                  keras.layers.MaxPool2D(pool_size=3, strides=2, padding=\"SAME\"),\n",
        "                                  keras.layers.Dropout(dropout_rate),\n",
        "                                  \n",
        "                                  keras.layers.MaxPool2D(pool_size=3, strides=2, padding=\"SAME\"),\n",
        "                                  keras.layers.Dropout(dropout_rate),\n",
        "                                  \n",
        "                                  keras.layers.MaxPool2D(pool_size=3, strides=2, padding=\"SAME\"),\n",
        "                                  keras.layers.Dropout(dropout_rate),\n",
        "                                  keras.layers.Flatten(),\n",
        "                                  keras.layers.Dense(128,activation=\"relu\"),\n",
        "                                  keras.layers.Dense(10,activation=\"softmax\")\n",
        "])"
      ],
      "execution_count": 51,
      "outputs": []
    },
    {
      "cell_type": "code",
      "metadata": {
        "id": "ggqujId-IY1l",
        "colab_type": "code",
        "colab": {}
      },
      "source": [
        "#Optimizing and compiling\n",
        "early_stopping = keras.callbacks.EarlyStopping(patience=8)\n",
        "optimizer = keras.optimizers.Adam(lr=1e-3, amsgrad=True)\n",
        "resnet_1_checkpoint = keras.callbacks.ModelCheckpoint('/kaggle/working/best_cnn.h5', save_best_only=True)\n",
        "resnet_1.compile(optimizer=optimizer,loss='categorical_crossentropy',metrics=['accuracy'])"
      ],
      "execution_count": 53,
      "outputs": []
    },
    {
      "cell_type": "code",
      "metadata": {
        "id": "EGITGWvyIa4P",
        "colab_type": "code",
        "colab": {
          "base_uri": "https://localhost:8080/",
          "height": 561
        },
        "outputId": "23e34383-caf7-439c-b252-6c3909ec8560"
      },
      "source": [
        "resnet_1.summary()"
      ],
      "execution_count": 55,
      "outputs": [
        {
          "output_type": "stream",
          "text": [
            "Model: \"sequential_2\"\n",
            "_________________________________________________________________\n",
            "Layer (type)                 Output Shape              Param #   \n",
            "=================================================================\n",
            "lambda_2 (Lambda)            (None, 32, 32, 3)         0         \n",
            "_________________________________________________________________\n",
            "conv2d_2 (Conv2D)            (None, 30, 30, 32)        864       \n",
            "_________________________________________________________________\n",
            "batch_normalization_2 (Batch (None, 30, 30, 32)        128       \n",
            "_________________________________________________________________\n",
            "max_pooling2d_6 (MaxPooling2 (None, 15, 15, 32)        0         \n",
            "_________________________________________________________________\n",
            "dropout_6 (Dropout)          (None, 15, 15, 32)        0         \n",
            "_________________________________________________________________\n",
            "max_pooling2d_7 (MaxPooling2 (None, 8, 8, 32)          0         \n",
            "_________________________________________________________________\n",
            "dropout_7 (Dropout)          (None, 8, 8, 32)          0         \n",
            "_________________________________________________________________\n",
            "max_pooling2d_8 (MaxPooling2 (None, 4, 4, 32)          0         \n",
            "_________________________________________________________________\n",
            "dropout_8 (Dropout)          (None, 4, 4, 32)          0         \n",
            "_________________________________________________________________\n",
            "flatten_2 (Flatten)          (None, 512)               0         \n",
            "_________________________________________________________________\n",
            "dense_4 (Dense)              (None, 128)               65664     \n",
            "_________________________________________________________________\n",
            "dense_5 (Dense)              (None, 10)                1290      \n",
            "=================================================================\n",
            "Total params: 67,946\n",
            "Trainable params: 67,882\n",
            "Non-trainable params: 64\n",
            "_________________________________________________________________\n"
          ],
          "name": "stdout"
        }
      ]
    },
    {
      "cell_type": "code",
      "metadata": {
        "id": "PZYmxwsKIgQt",
        "colab_type": "code",
        "colab": {
          "base_uri": "https://localhost:8080/",
          "height": 1000
        },
        "outputId": "e746cad4-4608-4637-bf00-cfea7a18701f"
      },
      "source": [
        "# Fit model in order to make predictions\n",
        "\n",
        "history = resnet_1.fit_generator(datagen.flow(x_train, y_train, batch_size=128),\n",
        "                              epochs=70, \n",
        "                              callbacks=[early_stopping, model_checkpoint])"
      ],
      "execution_count": 57,
      "outputs": [
        {
          "output_type": "stream",
          "text": [
            "Epoch 1/70\n",
            "573/573 [==============================] - ETA: 0s - loss: 2.0855 - accuracy: 0.2605WARNING:tensorflow:Early stopping conditioned on metric `val_loss` which is not available. Available metrics are: loss,accuracy\n",
            "WARNING:tensorflow:Can save best model only with val_loss available, skipping.\n",
            "573/573 [==============================] - 33s 57ms/step - loss: 2.0855 - accuracy: 0.2605\n",
            "Epoch 2/70\n",
            "573/573 [==============================] - ETA: 0s - loss: 1.7629 - accuracy: 0.3988WARNING:tensorflow:Early stopping conditioned on metric `val_loss` which is not available. Available metrics are: loss,accuracy\n",
            "WARNING:tensorflow:Can save best model only with val_loss available, skipping.\n",
            "573/573 [==============================] - 31s 55ms/step - loss: 1.7629 - accuracy: 0.3988\n",
            "Epoch 3/70\n",
            "573/573 [==============================] - ETA: 0s - loss: 1.6791 - accuracy: 0.4272WARNING:tensorflow:Early stopping conditioned on metric `val_loss` which is not available. Available metrics are: loss,accuracy\n",
            "WARNING:tensorflow:Can save best model only with val_loss available, skipping.\n",
            "573/573 [==============================] - 31s 55ms/step - loss: 1.6791 - accuracy: 0.4272\n",
            "Epoch 4/70\n",
            "573/573 [==============================] - ETA: 0s - loss: 1.6301 - accuracy: 0.4464WARNING:tensorflow:Early stopping conditioned on metric `val_loss` which is not available. Available metrics are: loss,accuracy\n",
            "WARNING:tensorflow:Can save best model only with val_loss available, skipping.\n",
            "573/573 [==============================] - 31s 54ms/step - loss: 1.6301 - accuracy: 0.4464\n",
            "Epoch 5/70\n",
            "572/573 [============================>.] - ETA: 0s - loss: 1.5905 - accuracy: 0.4588WARNING:tensorflow:Early stopping conditioned on metric `val_loss` which is not available. Available metrics are: loss,accuracy\n",
            "WARNING:tensorflow:Can save best model only with val_loss available, skipping.\n",
            "573/573 [==============================] - 31s 54ms/step - loss: 1.5903 - accuracy: 0.4588\n",
            "Epoch 6/70\n",
            "573/573 [==============================] - ETA: 0s - loss: 1.5522 - accuracy: 0.4732WARNING:tensorflow:Early stopping conditioned on metric `val_loss` which is not available. Available metrics are: loss,accuracy\n",
            "WARNING:tensorflow:Can save best model only with val_loss available, skipping.\n",
            "573/573 [==============================] - 31s 54ms/step - loss: 1.5522 - accuracy: 0.4732\n",
            "Epoch 7/70\n",
            "572/573 [============================>.] - ETA: 0s - loss: 1.5248 - accuracy: 0.4827WARNING:tensorflow:Early stopping conditioned on metric `val_loss` which is not available. Available metrics are: loss,accuracy\n",
            "WARNING:tensorflow:Can save best model only with val_loss available, skipping.\n",
            "573/573 [==============================] - 30s 53ms/step - loss: 1.5246 - accuracy: 0.4828\n",
            "Epoch 8/70\n",
            "573/573 [==============================] - ETA: 0s - loss: 1.4959 - accuracy: 0.4936WARNING:tensorflow:Early stopping conditioned on metric `val_loss` which is not available. Available metrics are: loss,accuracy\n",
            "WARNING:tensorflow:Can save best model only with val_loss available, skipping.\n",
            "573/573 [==============================] - 31s 54ms/step - loss: 1.4959 - accuracy: 0.4936\n",
            "Epoch 9/70\n",
            "573/573 [==============================] - ETA: 0s - loss: 1.4761 - accuracy: 0.5000WARNING:tensorflow:Early stopping conditioned on metric `val_loss` which is not available. Available metrics are: loss,accuracy\n",
            "WARNING:tensorflow:Can save best model only with val_loss available, skipping.\n",
            "573/573 [==============================] - 31s 54ms/step - loss: 1.4761 - accuracy: 0.5000\n",
            "Epoch 10/70\n",
            "572/573 [============================>.] - ETA: 0s - loss: 1.4546 - accuracy: 0.5101WARNING:tensorflow:Early stopping conditioned on metric `val_loss` which is not available. Available metrics are: loss,accuracy\n",
            "WARNING:tensorflow:Can save best model only with val_loss available, skipping.\n",
            "573/573 [==============================] - 30s 53ms/step - loss: 1.4545 - accuracy: 0.5102\n",
            "Epoch 11/70\n",
            "573/573 [==============================] - ETA: 0s - loss: 1.4395 - accuracy: 0.5124WARNING:tensorflow:Early stopping conditioned on metric `val_loss` which is not available. Available metrics are: loss,accuracy\n",
            "WARNING:tensorflow:Can save best model only with val_loss available, skipping.\n",
            "573/573 [==============================] - 31s 54ms/step - loss: 1.4395 - accuracy: 0.5124\n",
            "Epoch 12/70\n",
            "572/573 [============================>.] - ETA: 0s - loss: 1.4285 - accuracy: 0.5176WARNING:tensorflow:Early stopping conditioned on metric `val_loss` which is not available. Available metrics are: loss,accuracy\n",
            "WARNING:tensorflow:Can save best model only with val_loss available, skipping.\n",
            "573/573 [==============================] - 31s 53ms/step - loss: 1.4285 - accuracy: 0.5176\n",
            "Epoch 13/70\n",
            "572/573 [============================>.] - ETA: 0s - loss: 1.4157 - accuracy: 0.5207WARNING:tensorflow:Early stopping conditioned on metric `val_loss` which is not available. Available metrics are: loss,accuracy\n",
            "WARNING:tensorflow:Can save best model only with val_loss available, skipping.\n",
            "573/573 [==============================] - 30s 52ms/step - loss: 1.4157 - accuracy: 0.5208\n",
            "Epoch 14/70\n",
            "573/573 [==============================] - ETA: 0s - loss: 1.3999 - accuracy: 0.5284WARNING:tensorflow:Early stopping conditioned on metric `val_loss` which is not available. Available metrics are: loss,accuracy\n",
            "WARNING:tensorflow:Can save best model only with val_loss available, skipping.\n",
            "573/573 [==============================] - 30s 52ms/step - loss: 1.3999 - accuracy: 0.5284\n",
            "Epoch 15/70\n",
            "573/573 [==============================] - ETA: 0s - loss: 1.3909 - accuracy: 0.5316WARNING:tensorflow:Early stopping conditioned on metric `val_loss` which is not available. Available metrics are: loss,accuracy\n",
            "WARNING:tensorflow:Can save best model only with val_loss available, skipping.\n",
            "573/573 [==============================] - 30s 52ms/step - loss: 1.3909 - accuracy: 0.5316\n",
            "Epoch 16/70\n",
            "573/573 [==============================] - ETA: 0s - loss: 1.3785 - accuracy: 0.5347WARNING:tensorflow:Early stopping conditioned on metric `val_loss` which is not available. Available metrics are: loss,accuracy\n",
            "WARNING:tensorflow:Can save best model only with val_loss available, skipping.\n",
            "573/573 [==============================] - 30s 52ms/step - loss: 1.3785 - accuracy: 0.5347\n",
            "Epoch 17/70\n",
            "573/573 [==============================] - ETA: 0s - loss: 1.3640 - accuracy: 0.5399WARNING:tensorflow:Early stopping conditioned on metric `val_loss` which is not available. Available metrics are: loss,accuracy\n",
            "WARNING:tensorflow:Can save best model only with val_loss available, skipping.\n",
            "573/573 [==============================] - 30s 52ms/step - loss: 1.3640 - accuracy: 0.5399\n",
            "Epoch 18/70\n",
            "572/573 [============================>.] - ETA: 0s - loss: 1.3599 - accuracy: 0.5426WARNING:tensorflow:Early stopping conditioned on metric `val_loss` which is not available. Available metrics are: loss,accuracy\n",
            "WARNING:tensorflow:Can save best model only with val_loss available, skipping.\n",
            "573/573 [==============================] - 30s 52ms/step - loss: 1.3599 - accuracy: 0.5427\n",
            "Epoch 19/70\n",
            "573/573 [==============================] - ETA: 0s - loss: 1.3520 - accuracy: 0.5448WARNING:tensorflow:Early stopping conditioned on metric `val_loss` which is not available. Available metrics are: loss,accuracy\n",
            "WARNING:tensorflow:Can save best model only with val_loss available, skipping.\n",
            "573/573 [==============================] - 30s 52ms/step - loss: 1.3520 - accuracy: 0.5448\n",
            "Epoch 20/70\n",
            "573/573 [==============================] - ETA: 0s - loss: 1.3399 - accuracy: 0.5487WARNING:tensorflow:Early stopping conditioned on metric `val_loss` which is not available. Available metrics are: loss,accuracy\n",
            "WARNING:tensorflow:Can save best model only with val_loss available, skipping.\n",
            "573/573 [==============================] - 30s 52ms/step - loss: 1.3399 - accuracy: 0.5487\n",
            "Epoch 21/70\n",
            "573/573 [==============================] - ETA: 0s - loss: 1.3370 - accuracy: 0.5499WARNING:tensorflow:Early stopping conditioned on metric `val_loss` which is not available. Available metrics are: loss,accuracy\n",
            "WARNING:tensorflow:Can save best model only with val_loss available, skipping.\n",
            "573/573 [==============================] - 30s 53ms/step - loss: 1.3370 - accuracy: 0.5499\n",
            "Epoch 22/70\n",
            "573/573 [==============================] - ETA: 0s - loss: 1.3291 - accuracy: 0.5531WARNING:tensorflow:Early stopping conditioned on metric `val_loss` which is not available. Available metrics are: loss,accuracy\n",
            "WARNING:tensorflow:Can save best model only with val_loss available, skipping.\n",
            "573/573 [==============================] - 30s 52ms/step - loss: 1.3291 - accuracy: 0.5531\n",
            "Epoch 23/70\n",
            "572/573 [============================>.] - ETA: 0s - loss: 1.3175 - accuracy: 0.5544WARNING:tensorflow:Early stopping conditioned on metric `val_loss` which is not available. Available metrics are: loss,accuracy\n",
            "WARNING:tensorflow:Can save best model only with val_loss available, skipping.\n",
            "573/573 [==============================] - 30s 52ms/step - loss: 1.3175 - accuracy: 0.5544\n",
            "Epoch 24/70\n",
            "573/573 [==============================] - ETA: 0s - loss: 1.3151 - accuracy: 0.5585WARNING:tensorflow:Early stopping conditioned on metric `val_loss` which is not available. Available metrics are: loss,accuracy\n",
            "WARNING:tensorflow:Can save best model only with val_loss available, skipping.\n",
            "573/573 [==============================] - 30s 52ms/step - loss: 1.3151 - accuracy: 0.5585\n",
            "Epoch 25/70\n",
            "573/573 [==============================] - ETA: 0s - loss: 1.3052 - accuracy: 0.5616WARNING:tensorflow:Early stopping conditioned on metric `val_loss` which is not available. Available metrics are: loss,accuracy\n",
            "WARNING:tensorflow:Can save best model only with val_loss available, skipping.\n",
            "573/573 [==============================] - 30s 52ms/step - loss: 1.3052 - accuracy: 0.5616\n",
            "Epoch 26/70\n",
            "573/573 [==============================] - ETA: 0s - loss: 1.2978 - accuracy: 0.5636WARNING:tensorflow:Early stopping conditioned on metric `val_loss` which is not available. Available metrics are: loss,accuracy\n",
            "WARNING:tensorflow:Can save best model only with val_loss available, skipping.\n",
            "573/573 [==============================] - 29s 51ms/step - loss: 1.2978 - accuracy: 0.5636\n",
            "Epoch 27/70\n",
            "572/573 [============================>.] - ETA: 0s - loss: 1.2950 - accuracy: 0.5678WARNING:tensorflow:Early stopping conditioned on metric `val_loss` which is not available. Available metrics are: loss,accuracy\n",
            "WARNING:tensorflow:Can save best model only with val_loss available, skipping.\n",
            "573/573 [==============================] - 30s 52ms/step - loss: 1.2952 - accuracy: 0.5677\n",
            "Epoch 28/70\n",
            "573/573 [==============================] - ETA: 0s - loss: 1.2849 - accuracy: 0.5689WARNING:tensorflow:Early stopping conditioned on metric `val_loss` which is not available. Available metrics are: loss,accuracy\n",
            "WARNING:tensorflow:Can save best model only with val_loss available, skipping.\n",
            "573/573 [==============================] - 29s 51ms/step - loss: 1.2849 - accuracy: 0.5689\n",
            "Epoch 29/70\n",
            "573/573 [==============================] - ETA: 0s - loss: 1.2830 - accuracy: 0.5684WARNING:tensorflow:Early stopping conditioned on metric `val_loss` which is not available. Available metrics are: loss,accuracy\n",
            "WARNING:tensorflow:Can save best model only with val_loss available, skipping.\n",
            "573/573 [==============================] - 29s 51ms/step - loss: 1.2830 - accuracy: 0.5684\n",
            "Epoch 30/70\n",
            "572/573 [============================>.] - ETA: 0s - loss: 1.2847 - accuracy: 0.5712WARNING:tensorflow:Early stopping conditioned on metric `val_loss` which is not available. Available metrics are: loss,accuracy\n",
            "WARNING:tensorflow:Can save best model only with val_loss available, skipping.\n",
            "573/573 [==============================] - 30s 52ms/step - loss: 1.2847 - accuracy: 0.5712\n",
            "Epoch 31/70\n",
            "573/573 [==============================] - ETA: 0s - loss: 1.2704 - accuracy: 0.5721WARNING:tensorflow:Early stopping conditioned on metric `val_loss` which is not available. Available metrics are: loss,accuracy\n",
            "WARNING:tensorflow:Can save best model only with val_loss available, skipping.\n",
            "573/573 [==============================] - 30s 52ms/step - loss: 1.2704 - accuracy: 0.5721\n",
            "Epoch 32/70\n",
            "573/573 [==============================] - ETA: 0s - loss: 1.2647 - accuracy: 0.5747WARNING:tensorflow:Early stopping conditioned on metric `val_loss` which is not available. Available metrics are: loss,accuracy\n",
            "WARNING:tensorflow:Can save best model only with val_loss available, skipping.\n",
            "573/573 [==============================] - 30s 52ms/step - loss: 1.2647 - accuracy: 0.5747\n",
            "Epoch 33/70\n",
            "572/573 [============================>.] - ETA: 0s - loss: 1.2654 - accuracy: 0.5767WARNING:tensorflow:Early stopping conditioned on metric `val_loss` which is not available. Available metrics are: loss,accuracy\n",
            "WARNING:tensorflow:Can save best model only with val_loss available, skipping.\n",
            "573/573 [==============================] - 30s 52ms/step - loss: 1.2654 - accuracy: 0.5768\n",
            "Epoch 34/70\n",
            "572/573 [============================>.] - ETA: 0s - loss: 1.2594 - accuracy: 0.5772WARNING:tensorflow:Early stopping conditioned on metric `val_loss` which is not available. Available metrics are: loss,accuracy\n",
            "WARNING:tensorflow:Can save best model only with val_loss available, skipping.\n",
            "573/573 [==============================] - 29s 51ms/step - loss: 1.2595 - accuracy: 0.5774\n",
            "Epoch 35/70\n",
            "573/573 [==============================] - ETA: 0s - loss: 1.2535 - accuracy: 0.5787WARNING:tensorflow:Early stopping conditioned on metric `val_loss` which is not available. Available metrics are: loss,accuracy\n",
            "WARNING:tensorflow:Can save best model only with val_loss available, skipping.\n",
            "573/573 [==============================] - 30s 52ms/step - loss: 1.2535 - accuracy: 0.5787\n",
            "Epoch 36/70\n",
            "573/573 [==============================] - ETA: 0s - loss: 1.2524 - accuracy: 0.5804WARNING:tensorflow:Early stopping conditioned on metric `val_loss` which is not available. Available metrics are: loss,accuracy\n",
            "WARNING:tensorflow:Can save best model only with val_loss available, skipping.\n",
            "573/573 [==============================] - 29s 51ms/step - loss: 1.2524 - accuracy: 0.5804\n",
            "Epoch 37/70\n",
            "572/573 [============================>.] - ETA: 0s - loss: 1.2515 - accuracy: 0.5796WARNING:tensorflow:Early stopping conditioned on metric `val_loss` which is not available. Available metrics are: loss,accuracy\n",
            "WARNING:tensorflow:Can save best model only with val_loss available, skipping.\n",
            "573/573 [==============================] - 29s 51ms/step - loss: 1.2515 - accuracy: 0.5795\n",
            "Epoch 38/70\n",
            "572/573 [============================>.] - ETA: 0s - loss: 1.2414 - accuracy: 0.5820WARNING:tensorflow:Early stopping conditioned on metric `val_loss` which is not available. Available metrics are: loss,accuracy\n",
            "WARNING:tensorflow:Can save best model only with val_loss available, skipping.\n",
            "573/573 [==============================] - 30s 52ms/step - loss: 1.2413 - accuracy: 0.5820\n",
            "Epoch 39/70\n",
            "573/573 [==============================] - ETA: 0s - loss: 1.2423 - accuracy: 0.5844WARNING:tensorflow:Early stopping conditioned on metric `val_loss` which is not available. Available metrics are: loss,accuracy\n",
            "WARNING:tensorflow:Can save best model only with val_loss available, skipping.\n",
            "573/573 [==============================] - 29s 51ms/step - loss: 1.2423 - accuracy: 0.5844\n",
            "Epoch 40/70\n",
            "573/573 [==============================] - ETA: 0s - loss: 1.2368 - accuracy: 0.5857WARNING:tensorflow:Early stopping conditioned on metric `val_loss` which is not available. Available metrics are: loss,accuracy\n",
            "WARNING:tensorflow:Can save best model only with val_loss available, skipping.\n",
            "573/573 [==============================] - 29s 51ms/step - loss: 1.2368 - accuracy: 0.5857\n",
            "Epoch 41/70\n",
            "572/573 [============================>.] - ETA: 0s - loss: 1.2341 - accuracy: 0.5874WARNING:tensorflow:Early stopping conditioned on metric `val_loss` which is not available. Available metrics are: loss,accuracy\n",
            "WARNING:tensorflow:Can save best model only with val_loss available, skipping.\n",
            "573/573 [==============================] - 30s 52ms/step - loss: 1.2341 - accuracy: 0.5874\n",
            "Epoch 42/70\n",
            "572/573 [============================>.] - ETA: 0s - loss: 1.2328 - accuracy: 0.5879WARNING:tensorflow:Early stopping conditioned on metric `val_loss` which is not available. Available metrics are: loss,accuracy\n",
            "WARNING:tensorflow:Can save best model only with val_loss available, skipping.\n",
            "573/573 [==============================] - 30s 52ms/step - loss: 1.2329 - accuracy: 0.5878\n",
            "Epoch 43/70\n",
            "573/573 [==============================] - ETA: 0s - loss: 1.2307 - accuracy: 0.5872WARNING:tensorflow:Early stopping conditioned on metric `val_loss` which is not available. Available metrics are: loss,accuracy\n",
            "WARNING:tensorflow:Can save best model only with val_loss available, skipping.\n",
            "573/573 [==============================] - 29s 51ms/step - loss: 1.2307 - accuracy: 0.5872\n",
            "Epoch 44/70\n",
            "573/573 [==============================] - ETA: 0s - loss: 1.2313 - accuracy: 0.5870WARNING:tensorflow:Early stopping conditioned on metric `val_loss` which is not available. Available metrics are: loss,accuracy\n",
            "WARNING:tensorflow:Can save best model only with val_loss available, skipping.\n",
            "573/573 [==============================] - 29s 51ms/step - loss: 1.2313 - accuracy: 0.5870\n",
            "Epoch 45/70\n",
            "573/573 [==============================] - ETA: 0s - loss: 1.2287 - accuracy: 0.5888WARNING:tensorflow:Early stopping conditioned on metric `val_loss` which is not available. Available metrics are: loss,accuracy\n",
            "WARNING:tensorflow:Can save best model only with val_loss available, skipping.\n",
            "573/573 [==============================] - 29s 51ms/step - loss: 1.2287 - accuracy: 0.5888\n",
            "Epoch 46/70\n",
            "573/573 [==============================] - ETA: 0s - loss: 1.2217 - accuracy: 0.5927WARNING:tensorflow:Early stopping conditioned on metric `val_loss` which is not available. Available metrics are: loss,accuracy\n",
            "WARNING:tensorflow:Can save best model only with val_loss available, skipping.\n",
            "573/573 [==============================] - 30s 52ms/step - loss: 1.2217 - accuracy: 0.5927\n",
            "Epoch 47/70\n",
            "573/573 [==============================] - ETA: 0s - loss: 1.2188 - accuracy: 0.5926WARNING:tensorflow:Early stopping conditioned on metric `val_loss` which is not available. Available metrics are: loss,accuracy\n",
            "WARNING:tensorflow:Can save best model only with val_loss available, skipping.\n",
            "573/573 [==============================] - 29s 51ms/step - loss: 1.2188 - accuracy: 0.5926\n",
            "Epoch 48/70\n",
            "573/573 [==============================] - ETA: 0s - loss: 1.2159 - accuracy: 0.5928WARNING:tensorflow:Early stopping conditioned on metric `val_loss` which is not available. Available metrics are: loss,accuracy\n",
            "WARNING:tensorflow:Can save best model only with val_loss available, skipping.\n",
            "573/573 [==============================] - 29s 51ms/step - loss: 1.2159 - accuracy: 0.5928\n",
            "Epoch 49/70\n",
            "572/573 [============================>.] - ETA: 0s - loss: 1.2145 - accuracy: 0.5947WARNING:tensorflow:Early stopping conditioned on metric `val_loss` which is not available. Available metrics are: loss,accuracy\n",
            "WARNING:tensorflow:Can save best model only with val_loss available, skipping.\n",
            "573/573 [==============================] - 30s 52ms/step - loss: 1.2142 - accuracy: 0.5948\n",
            "Epoch 50/70\n",
            "572/573 [============================>.] - ETA: 0s - loss: 1.2112 - accuracy: 0.5980WARNING:tensorflow:Early stopping conditioned on metric `val_loss` which is not available. Available metrics are: loss,accuracy\n",
            "WARNING:tensorflow:Can save best model only with val_loss available, skipping.\n",
            "573/573 [==============================] - 29s 51ms/step - loss: 1.2112 - accuracy: 0.5980\n",
            "Epoch 51/70\n",
            "573/573 [==============================] - ETA: 0s - loss: 1.2047 - accuracy: 0.5984WARNING:tensorflow:Early stopping conditioned on metric `val_loss` which is not available. Available metrics are: loss,accuracy\n",
            "WARNING:tensorflow:Can save best model only with val_loss available, skipping.\n",
            "573/573 [==============================] - 29s 51ms/step - loss: 1.2047 - accuracy: 0.5984\n",
            "Epoch 52/70\n",
            "573/573 [==============================] - ETA: 0s - loss: 1.2004 - accuracy: 0.5985WARNING:tensorflow:Early stopping conditioned on metric `val_loss` which is not available. Available metrics are: loss,accuracy\n",
            "WARNING:tensorflow:Can save best model only with val_loss available, skipping.\n",
            "573/573 [==============================] - 29s 51ms/step - loss: 1.2004 - accuracy: 0.5985\n",
            "Epoch 53/70\n",
            "573/573 [==============================] - ETA: 0s - loss: 1.1994 - accuracy: 0.5993WARNING:tensorflow:Early stopping conditioned on metric `val_loss` which is not available. Available metrics are: loss,accuracy\n",
            "WARNING:tensorflow:Can save best model only with val_loss available, skipping.\n",
            "573/573 [==============================] - 30s 52ms/step - loss: 1.1994 - accuracy: 0.5993\n",
            "Epoch 54/70\n",
            "573/573 [==============================] - ETA: 0s - loss: 1.2038 - accuracy: 0.5987WARNING:tensorflow:Early stopping conditioned on metric `val_loss` which is not available. Available metrics are: loss,accuracy\n",
            "WARNING:tensorflow:Can save best model only with val_loss available, skipping.\n",
            "573/573 [==============================] - 30s 52ms/step - loss: 1.2038 - accuracy: 0.5987\n",
            "Epoch 55/70\n",
            "573/573 [==============================] - ETA: 0s - loss: 1.1969 - accuracy: 0.6013WARNING:tensorflow:Early stopping conditioned on metric `val_loss` which is not available. Available metrics are: loss,accuracy\n",
            "WARNING:tensorflow:Can save best model only with val_loss available, skipping.\n",
            "573/573 [==============================] - 29s 51ms/step - loss: 1.1969 - accuracy: 0.6013\n",
            "Epoch 56/70\n",
            "573/573 [==============================] - ETA: 0s - loss: 1.1927 - accuracy: 0.5994WARNING:tensorflow:Early stopping conditioned on metric `val_loss` which is not available. Available metrics are: loss,accuracy\n",
            "WARNING:tensorflow:Can save best model only with val_loss available, skipping.\n",
            "573/573 [==============================] - 29s 51ms/step - loss: 1.1927 - accuracy: 0.5994\n",
            "Epoch 57/70\n",
            "572/573 [============================>.] - ETA: 0s - loss: 1.1894 - accuracy: 0.6024WARNING:tensorflow:Early stopping conditioned on metric `val_loss` which is not available. Available metrics are: loss,accuracy\n",
            "WARNING:tensorflow:Can save best model only with val_loss available, skipping.\n",
            "573/573 [==============================] - 30s 52ms/step - loss: 1.1892 - accuracy: 0.6025\n",
            "Epoch 58/70\n",
            "573/573 [==============================] - ETA: 0s - loss: 1.1882 - accuracy: 0.6047WARNING:tensorflow:Early stopping conditioned on metric `val_loss` which is not available. Available metrics are: loss,accuracy\n",
            "WARNING:tensorflow:Can save best model only with val_loss available, skipping.\n",
            "573/573 [==============================] - 29s 51ms/step - loss: 1.1882 - accuracy: 0.6047\n",
            "Epoch 59/70\n",
            "573/573 [==============================] - ETA: 0s - loss: 1.1826 - accuracy: 0.6039WARNING:tensorflow:Early stopping conditioned on metric `val_loss` which is not available. Available metrics are: loss,accuracy\n",
            "WARNING:tensorflow:Can save best model only with val_loss available, skipping.\n",
            "573/573 [==============================] - 29s 51ms/step - loss: 1.1826 - accuracy: 0.6039\n",
            "Epoch 60/70\n",
            "573/573 [==============================] - ETA: 0s - loss: 1.1762 - accuracy: 0.6079WARNING:tensorflow:Early stopping conditioned on metric `val_loss` which is not available. Available metrics are: loss,accuracy\n",
            "WARNING:tensorflow:Can save best model only with val_loss available, skipping.\n",
            "573/573 [==============================] - 30s 52ms/step - loss: 1.1762 - accuracy: 0.6079\n",
            "Epoch 61/70\n",
            "573/573 [==============================] - ETA: 0s - loss: 1.1735 - accuracy: 0.6068WARNING:tensorflow:Early stopping conditioned on metric `val_loss` which is not available. Available metrics are: loss,accuracy\n",
            "WARNING:tensorflow:Can save best model only with val_loss available, skipping.\n",
            "573/573 [==============================] - 29s 51ms/step - loss: 1.1735 - accuracy: 0.6068\n",
            "Epoch 62/70\n",
            "573/573 [==============================] - ETA: 0s - loss: 1.1706 - accuracy: 0.6102WARNING:tensorflow:Early stopping conditioned on metric `val_loss` which is not available. Available metrics are: loss,accuracy\n",
            "WARNING:tensorflow:Can save best model only with val_loss available, skipping.\n",
            "573/573 [==============================] - 30s 52ms/step - loss: 1.1706 - accuracy: 0.6102\n",
            "Epoch 63/70\n",
            "573/573 [==============================] - ETA: 0s - loss: 1.1686 - accuracy: 0.6108WARNING:tensorflow:Early stopping conditioned on metric `val_loss` which is not available. Available metrics are: loss,accuracy\n",
            "WARNING:tensorflow:Can save best model only with val_loss available, skipping.\n",
            "573/573 [==============================] - 30s 53ms/step - loss: 1.1686 - accuracy: 0.6108\n",
            "Epoch 64/70\n",
            "573/573 [==============================] - ETA: 0s - loss: 1.1650 - accuracy: 0.6101WARNING:tensorflow:Early stopping conditioned on metric `val_loss` which is not available. Available metrics are: loss,accuracy\n",
            "WARNING:tensorflow:Can save best model only with val_loss available, skipping.\n",
            "573/573 [==============================] - 30s 52ms/step - loss: 1.1650 - accuracy: 0.6101\n",
            "Epoch 65/70\n",
            "573/573 [==============================] - ETA: 0s - loss: 1.1590 - accuracy: 0.6126WARNING:tensorflow:Early stopping conditioned on metric `val_loss` which is not available. Available metrics are: loss,accuracy\n",
            "WARNING:tensorflow:Can save best model only with val_loss available, skipping.\n",
            "573/573 [==============================] - 30s 52ms/step - loss: 1.1590 - accuracy: 0.6126\n",
            "Epoch 66/70\n",
            "573/573 [==============================] - ETA: 0s - loss: 1.1594 - accuracy: 0.6152WARNING:tensorflow:Early stopping conditioned on metric `val_loss` which is not available. Available metrics are: loss,accuracy\n",
            "WARNING:tensorflow:Can save best model only with val_loss available, skipping.\n",
            "573/573 [==============================] - 29s 51ms/step - loss: 1.1594 - accuracy: 0.6152\n",
            "Epoch 67/70\n",
            "573/573 [==============================] - ETA: 0s - loss: 1.1526 - accuracy: 0.6168WARNING:tensorflow:Early stopping conditioned on metric `val_loss` which is not available. Available metrics are: loss,accuracy\n",
            "WARNING:tensorflow:Can save best model only with val_loss available, skipping.\n",
            "573/573 [==============================] - 30s 52ms/step - loss: 1.1526 - accuracy: 0.6168\n",
            "Epoch 68/70\n",
            "572/573 [============================>.] - ETA: 0s - loss: 1.1501 - accuracy: 0.6185WARNING:tensorflow:Early stopping conditioned on metric `val_loss` which is not available. Available metrics are: loss,accuracy\n",
            "WARNING:tensorflow:Can save best model only with val_loss available, skipping.\n",
            "573/573 [==============================] - 30s 52ms/step - loss: 1.1500 - accuracy: 0.6186\n",
            "Epoch 69/70\n",
            "573/573 [==============================] - ETA: 0s - loss: 1.1439 - accuracy: 0.6203WARNING:tensorflow:Early stopping conditioned on metric `val_loss` which is not available. Available metrics are: loss,accuracy\n",
            "WARNING:tensorflow:Can save best model only with val_loss available, skipping.\n",
            "573/573 [==============================] - 29s 51ms/step - loss: 1.1439 - accuracy: 0.6203\n",
            "Epoch 70/70\n",
            "573/573 [==============================] - ETA: 0s - loss: 1.1437 - accuracy: 0.6194WARNING:tensorflow:Early stopping conditioned on metric `val_loss` which is not available. Available metrics are: loss,accuracy\n",
            "WARNING:tensorflow:Can save best model only with val_loss available, skipping.\n",
            "573/573 [==============================] - 29s 51ms/step - loss: 1.1437 - accuracy: 0.6194\n"
          ],
          "name": "stdout"
        }
      ]
    },
    {
      "cell_type": "code",
      "metadata": {
        "id": "fe-iTcoOJDf2",
        "colab_type": "code",
        "colab": {
          "base_uri": "https://localhost:8080/",
          "height": 34
        },
        "outputId": "1546bc94-87ae-45cc-a093-6bb6d9e9f584"
      },
      "source": [
        "# Evaluating model on test data\n",
        "test_loss, test_acc = resnet_1.evaluate(x=x_test, y=y_test, verbose=0)\n",
        "\n",
        "#Checking the accuracy of the model\n",
        "print('Test accuracy is:',test_acc, 'Test loss is: ', test_loss)"
      ],
      "execution_count": 58,
      "outputs": [
        {
          "output_type": "stream",
          "text": [
            "Test accuracy is: 0.6827750205993652 Test loss is:  1.0621013641357422\n"
          ],
          "name": "stdout"
        }
      ]
    },
    {
      "cell_type": "markdown",
      "metadata": {
        "id": "GhUXf8yQHmcX",
        "colab_type": "text"
      },
      "source": [
        "Accuracy : 68.27%"
      ]
    },
    {
      "cell_type": "markdown",
      "metadata": {
        "id": "5CTLDJklHtst",
        "colab_type": "text"
      },
      "source": [
        "# **Saving model**"
      ]
    },
    {
      "cell_type": "code",
      "metadata": {
        "id": "VNd-7AOwE1A4",
        "colab_type": "code",
        "colab": {}
      },
      "source": [
        "resnet_1.save('models/CNN.h5')"
      ],
      "execution_count": 59,
      "outputs": []
    }
  ]
}